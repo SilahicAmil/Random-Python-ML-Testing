{
  "nbformat": 4,
  "nbformat_minor": 0,
  "metadata": {
    "colab": {
      "name": "Random-Python.ipynb",
      "provenance": [],
      "collapsed_sections": [],
      "authorship_tag": "ABX9TyPfOoIv6VsUg1LepbqjgNg9",
      "include_colab_link": true
    },
    "kernelspec": {
      "name": "python3",
      "display_name": "Python 3"
    },
    "language_info": {
      "name": "python"
    }
  },
  "cells": [
    {
      "cell_type": "markdown",
      "metadata": {
        "id": "view-in-github",
        "colab_type": "text"
      },
      "source": [
        "<a href=\"https://colab.research.google.com/github/SilahicAmil/Random-Python-ML-Testing/blob/main/Random_Python.ipynb\" target=\"_parent\"><img src=\"https://colab.research.google.com/assets/colab-badge.svg\" alt=\"Open In Colab\"/></a>"
      ]
    },
    {
      "cell_type": "code",
      "metadata": {
        "colab": {
          "base_uri": "https://localhost:8080/"
        },
        "id": "_CQWnY9GpkVe",
        "outputId": "92e72178-e342-4533-b803-6f46bad6fa37"
      },
      "source": [
        "for i in range(1,5):\n",
        "  print(i)\n",
        "else:\n",
        "  print(\"this is a block statement\")"
      ],
      "execution_count": null,
      "outputs": [
        {
          "output_type": "stream",
          "text": [
            "1\n",
            "2\n",
            "3\n",
            "4\n",
            "this is a block statement\n"
          ],
          "name": "stdout"
        }
      ]
    },
    {
      "cell_type": "code",
      "metadata": {
        "colab": {
          "base_uri": "https://localhost:8080/"
        },
        "id": "aFu9n74xpznt",
        "outputId": "668ca5bc-ef38-4bd6-95a4-a6db61f7c783"
      },
      "source": [
        "p,q,r=10,20,30\n",
        "print(p,q,r)"
      ],
      "execution_count": null,
      "outputs": [
        {
          "output_type": "stream",
          "text": [
            "10 20 30\n"
          ],
          "name": "stdout"
        }
      ]
    },
    {
      "cell_type": "code",
      "metadata": {
        "colab": {
          "base_uri": "https://localhost:8080/"
        },
        "id": "R2NZoDmwp9ZZ",
        "outputId": "a082e110-5b14-4b46-b634-c2e364adca96"
      },
      "source": [
        "x = 36 / 4 * (3 +  2) * 4 + 2\n",
        "print(x)\n"
      ],
      "execution_count": null,
      "outputs": [
        {
          "output_type": "stream",
          "text": [
            "182.0\n"
          ],
          "name": "stdout"
        }
      ]
    },
    {
      "cell_type": "code",
      "metadata": {
        "colab": {
          "base_uri": "https://localhost:8080/"
        },
        "id": "Tck0_pBiqK1J",
        "outputId": "cc8641b3-4498-4f8f-bb0e-0b25ef646e34"
      },
      "source": [
        "var = \"James\" * 2  * 3\n",
        "print(var)\n"
      ],
      "execution_count": null,
      "outputs": [
        {
          "output_type": "stream",
          "text": [
            "JamesJamesJamesJamesJamesJames\n"
          ],
          "name": "stdout"
        }
      ]
    },
    {
      "cell_type": "code",
      "metadata": {
        "colab": {
          "base_uri": "https://localhost:8080/",
          "height": 180
        },
        "id": "CwbtijKzqPUR",
        "outputId": "2b280b54-f41c-480f-c625-ac83d32bb98a"
      },
      "source": [
        "for x in range(0.5, 5.5, 0.5):\n",
        "  print(x)"
      ],
      "execution_count": 1,
      "outputs": [
        {
          "output_type": "error",
          "ename": "TypeError",
          "evalue": "ignored",
          "traceback": [
            "\u001b[0;31m---------------------------------------------------------------------------\u001b[0m",
            "\u001b[0;31mTypeError\u001b[0m                                 Traceback (most recent call last)",
            "\u001b[0;32m<ipython-input-1-1605cb655d89>\u001b[0m in \u001b[0;36m<module>\u001b[0;34m()\u001b[0m\n\u001b[0;32m----> 1\u001b[0;31m \u001b[0;32mfor\u001b[0m \u001b[0mx\u001b[0m \u001b[0;32min\u001b[0m \u001b[0mrange\u001b[0m\u001b[0;34m(\u001b[0m\u001b[0;36m0.5\u001b[0m\u001b[0;34m,\u001b[0m \u001b[0;36m5.5\u001b[0m\u001b[0;34m,\u001b[0m \u001b[0;36m0.5\u001b[0m\u001b[0;34m)\u001b[0m\u001b[0;34m:\u001b[0m\u001b[0;34m\u001b[0m\u001b[0;34m\u001b[0m\u001b[0m\n\u001b[0m\u001b[1;32m      2\u001b[0m   \u001b[0mprint\u001b[0m\u001b[0;34m(\u001b[0m\u001b[0mx\u001b[0m\u001b[0;34m)\u001b[0m\u001b[0;34m\u001b[0m\u001b[0;34m\u001b[0m\u001b[0m\n",
            "\u001b[0;31mTypeError\u001b[0m: 'float' object cannot be interpreted as an integer"
          ]
        }
      ]
    },
    {
      "cell_type": "code",
      "metadata": {
        "colab": {
          "base_uri": "https://localhost:8080/",
          "height": 197
        },
        "id": "2yM-l5ZrqaHe",
        "outputId": "218f6917-6dbe-4365-a9c6-70acf26ae432"
      },
      "source": [
        "var1 = 1\n",
        "var2 = 2\n",
        "var3 = \"3\"\n",
        "\n",
        "print(var + var2 + var3)"
      ],
      "execution_count": null,
      "outputs": [
        {
          "output_type": "error",
          "ename": "TypeError",
          "evalue": "ignored",
          "traceback": [
            "\u001b[0;31m---------------------------------------------------------------------------\u001b[0m",
            "\u001b[0;31mTypeError\u001b[0m                                 Traceback (most recent call last)",
            "\u001b[0;32m<ipython-input-8-9e81045fb2da>\u001b[0m in \u001b[0;36m<module>\u001b[0;34m()\u001b[0m\n\u001b[1;32m      3\u001b[0m \u001b[0mvar3\u001b[0m \u001b[0;34m=\u001b[0m \u001b[0;34m\"3\"\u001b[0m\u001b[0;34m\u001b[0m\u001b[0;34m\u001b[0m\u001b[0m\n\u001b[1;32m      4\u001b[0m \u001b[0;34m\u001b[0m\u001b[0m\n\u001b[0;32m----> 5\u001b[0;31m \u001b[0mprint\u001b[0m\u001b[0;34m(\u001b[0m\u001b[0mvar\u001b[0m \u001b[0;34m+\u001b[0m \u001b[0mvar2\u001b[0m \u001b[0;34m+\u001b[0m \u001b[0mvar3\u001b[0m\u001b[0;34m)\u001b[0m\u001b[0;34m\u001b[0m\u001b[0;34m\u001b[0m\u001b[0m\n\u001b[0m",
            "\u001b[0;31mTypeError\u001b[0m: can only concatenate str (not \"int\") to str"
          ]
        }
      ]
    },
    {
      "cell_type": "code",
      "metadata": {
        "colab": {
          "base_uri": "https://localhost:8080/"
        },
        "id": "ZCQNGyv1qle2",
        "outputId": "12e21758-3b87-40e5-8c31-1bf202bee6c9"
      },
      "source": [
        "def multiplication_or_sum(num1,num2):\n",
        "  product= num1*num2\n",
        "  # check product\n",
        "  if product < 1000:\n",
        "    return product\n",
        "  else:\n",
        "    return num1 + num2\n",
        "\n",
        "\n",
        "res = multiplication_or_sum(20,30)\n",
        "print(f\"The result is: {res}\")\n",
        "\n",
        "\n",
        "res = multiplication_or_sum(40,30)\n",
        "print(f\"The result is: {res}\")"
      ],
      "execution_count": null,
      "outputs": [
        {
          "output_type": "stream",
          "text": [
            "The result is: 600\n",
            "The result is: 70\n"
          ],
          "name": "stdout"
        }
      ]
    },
    {
      "cell_type": "code",
      "metadata": {
        "colab": {
          "base_uri": "https://localhost:8080/"
        },
        "id": "3673cqsIsXsO",
        "outputId": "ef13092b-fa41-4dab-8e2c-ea8ab6df9c48"
      },
      "source": [
        "# x=range(10)\n",
        "for i in range(10):\n",
        "  print(x)"
      ],
      "execution_count": null,
      "outputs": [
        {
          "output_type": "stream",
          "text": [
            "range(0, 10)\n",
            "range(0, 10)\n",
            "range(0, 10)\n",
            "range(0, 10)\n",
            "range(0, 10)\n",
            "range(0, 10)\n",
            "range(0, 10)\n",
            "range(0, 10)\n",
            "range(0, 10)\n",
            "range(0, 10)\n"
          ],
          "name": "stdout"
        }
      ]
    },
    {
      "cell_type": "code",
      "metadata": {
        "colab": {
          "base_uri": "https://localhost:8080/"
        },
        "id": "MRw2sYoVs3YZ",
        "outputId": "5cf1b72d-eea2-4d68-c380-fab7978173c9"
      },
      "source": [
        "def sum_num(num):\n",
        "  prev_num = 0\n",
        "  for i in range(num):\n",
        "    sum = prev_num + 1\n",
        "    print(f\"Current Number: 1\\n\")\n",
        "    print(f\"Previous Number: {prev_num}\")\n",
        "    print(f\"Sum: {sum}\")\n",
        "    prev_num = i\n",
        "\n",
        "res = sum_num(10)\n",
        "print(res)"
      ],
      "execution_count": null,
      "outputs": [
        {
          "output_type": "stream",
          "text": [
            "Current Number: 1\n",
            "\n",
            "Previous Number: 0\n",
            "Sum: 1\n",
            "Current Number: 1\n",
            "\n",
            "Previous Number: 0\n",
            "Sum: 1\n",
            "Current Number: 1\n",
            "\n",
            "Previous Number: 1\n",
            "Sum: 2\n",
            "Current Number: 1\n",
            "\n",
            "Previous Number: 2\n",
            "Sum: 3\n",
            "Current Number: 1\n",
            "\n",
            "Previous Number: 3\n",
            "Sum: 4\n",
            "Current Number: 1\n",
            "\n",
            "Previous Number: 4\n",
            "Sum: 5\n",
            "Current Number: 1\n",
            "\n",
            "Previous Number: 5\n",
            "Sum: 6\n",
            "Current Number: 1\n",
            "\n",
            "Previous Number: 6\n",
            "Sum: 7\n",
            "Current Number: 1\n",
            "\n",
            "Previous Number: 7\n",
            "Sum: 8\n",
            "Current Number: 1\n",
            "\n",
            "Previous Number: 8\n",
            "Sum: 9\n",
            "None\n"
          ],
          "name": "stdout"
        }
      ]
    },
    {
      "cell_type": "code",
      "metadata": {
        "colab": {
          "base_uri": "https://localhost:8080/"
        },
        "id": "bI3wF8tWtX9j",
        "outputId": "e28dd32d-bc0e-4252-f161-271390856e01"
      },
      "source": [
        "for i in range(10):\n",
        "  print(i + 1)"
      ],
      "execution_count": null,
      "outputs": [
        {
          "output_type": "stream",
          "text": [
            "1\n",
            "2\n",
            "3\n",
            "4\n",
            "5\n",
            "6\n",
            "7\n",
            "8\n",
            "9\n",
            "10\n"
          ],
          "name": "stdout"
        }
      ]
    },
    {
      "cell_type": "code",
      "metadata": {
        "colab": {
          "base_uri": "https://localhost:8080/"
        },
        "id": "cioy79ubuphC",
        "outputId": "1c5ecdd1-43b4-440e-bdae-986182a7e52a"
      },
      "source": [
        "n=2\n",
        "\n",
        "for i in range(1,11,1):\n",
        "  product = n*i\n",
        "  print(product)"
      ],
      "execution_count": null,
      "outputs": [
        {
          "output_type": "stream",
          "text": [
            "2\n",
            "4\n",
            "6\n",
            "8\n",
            "10\n",
            "12\n",
            "14\n",
            "16\n",
            "18\n",
            "20\n"
          ],
          "name": "stdout"
        }
      ]
    },
    {
      "cell_type": "code",
      "metadata": {
        "id": "ximVdwqPu8Jf",
        "colab": {
          "base_uri": "https://localhost:8080/"
        },
        "outputId": "e9bbfafa-fc56-4ab9-d857-e1cda36c3911"
      },
      "source": [
        "import numpy as np\n",
        "arr = np.array([[1,2,3,4,5], [6,7,8,9,10]])\n",
        "print(arr[1,2])"
      ],
      "execution_count": 6,
      "outputs": [
        {
          "output_type": "stream",
          "text": [
            "8\n"
          ],
          "name": "stdout"
        }
      ]
    },
    {
      "cell_type": "code",
      "metadata": {
        "colab": {
          "base_uri": "https://localhost:8080/"
        },
        "id": "EGquhFGKzF71",
        "outputId": "49be0e17-f273-4684-8c2b-141158f5b76b"
      },
      "source": [
        "arr = np.array([1,2,3,4,5,6,7])\n",
        "print(arr[2:5])"
      ],
      "execution_count": 8,
      "outputs": [
        {
          "output_type": "stream",
          "text": [
            "[3 4 5]\n"
          ],
          "name": "stdout"
        }
      ]
    },
    {
      "cell_type": "code",
      "metadata": {
        "colab": {
          "base_uri": "https://localhost:8080/"
        },
        "id": "x4FQBNEdzggj",
        "outputId": "5bce1dd7-e2d3-4c0d-df7c-7f321ca843d0"
      },
      "source": [
        "arr = np.array([1,2,3,4,5,6,7])\n",
        "print(arr[3:]) # 3: - Displays the last 4. Backwards index to +1 is added"
      ],
      "execution_count": 12,
      "outputs": [
        {
          "output_type": "stream",
          "text": [
            "[4 5 6 7]\n"
          ],
          "name": "stdout"
        }
      ]
    },
    {
      "cell_type": "code",
      "metadata": {
        "colab": {
          "base_uri": "https://localhost:8080/"
        },
        "id": "2lezziuPzn4Z",
        "outputId": "21056c50-43a5-482b-9dd2-1c1822a11522"
      },
      "source": [
        "arr = np.array([1,2,3,4,5,6,7])\n",
        "print(arr[::2]) # :: Makes it so you can print every other."
      ],
      "execution_count": 15,
      "outputs": [
        {
          "output_type": "stream",
          "text": [
            "[1 3 5 7]\n"
          ],
          "name": "stdout"
        }
      ]
    },
    {
      "cell_type": "code",
      "metadata": {
        "id": "FylNt3XJz6HY"
      },
      "source": [
        ""
      ],
      "execution_count": 21,
      "outputs": []
    },
    {
      "cell_type": "code",
      "metadata": {
        "id": "7V0BItO41JEt"
      },
      "source": [
        ""
      ],
      "execution_count": null,
      "outputs": []
    }
  ]
}
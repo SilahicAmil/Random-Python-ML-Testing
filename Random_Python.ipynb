{
  "nbformat": 4,
  "nbformat_minor": 0,
  "metadata": {
    "colab": {
      "name": "Random-Python.ipynb",
      "provenance": [],
      "collapsed_sections": [],
      "authorship_tag": "ABX9TyNStR4a39fP/U1WYZrMHEy/",
      "include_colab_link": true
    },
    "kernelspec": {
      "name": "python3",
      "display_name": "Python 3"
    },
    "language_info": {
      "name": "python"
    },
    "accelerator": "GPU"
  },
  "cells": [
    {
      "cell_type": "markdown",
      "metadata": {
        "id": "view-in-github",
        "colab_type": "text"
      },
      "source": [
        "<a href=\"https://colab.research.google.com/github/SilahicAmil/Random-Python-ML-Testing/blob/main/Random_Python.ipynb\" target=\"_parent\"><img src=\"https://colab.research.google.com/assets/colab-badge.svg\" alt=\"Open In Colab\"/></a>"
      ]
    },
    {
      "cell_type": "code",
      "metadata": {
        "colab": {
          "base_uri": "https://localhost:8080/"
        },
        "id": "_CQWnY9GpkVe",
        "outputId": "92e72178-e342-4533-b803-6f46bad6fa37"
      },
      "source": [
        "for i in range(1,5):\n",
        "  print(i)\n",
        "else:\n",
        "  print(\"this is a block statement\")"
      ],
      "execution_count": null,
      "outputs": [
        {
          "output_type": "stream",
          "text": [
            "1\n",
            "2\n",
            "3\n",
            "4\n",
            "this is a block statement\n"
          ],
          "name": "stdout"
        }
      ]
    },
    {
      "cell_type": "code",
      "metadata": {
        "colab": {
          "base_uri": "https://localhost:8080/"
        },
        "id": "aFu9n74xpznt",
        "outputId": "668ca5bc-ef38-4bd6-95a4-a6db61f7c783"
      },
      "source": [
        "p,q,r=10,20,30\n",
        "print(p,q,r)"
      ],
      "execution_count": null,
      "outputs": [
        {
          "output_type": "stream",
          "text": [
            "10 20 30\n"
          ],
          "name": "stdout"
        }
      ]
    },
    {
      "cell_type": "code",
      "metadata": {
        "colab": {
          "base_uri": "https://localhost:8080/"
        },
        "id": "R2NZoDmwp9ZZ",
        "outputId": "a082e110-5b14-4b46-b634-c2e364adca96"
      },
      "source": [
        "x = 36 / 4 * (3 +  2) * 4 + 2\n",
        "print(x)\n"
      ],
      "execution_count": null,
      "outputs": [
        {
          "output_type": "stream",
          "text": [
            "182.0\n"
          ],
          "name": "stdout"
        }
      ]
    },
    {
      "cell_type": "code",
      "metadata": {
        "colab": {
          "base_uri": "https://localhost:8080/"
        },
        "id": "Tck0_pBiqK1J",
        "outputId": "cc8641b3-4498-4f8f-bb0e-0b25ef646e34"
      },
      "source": [
        "var = \"James\" * 2  * 3\n",
        "print(var)\n"
      ],
      "execution_count": null,
      "outputs": [
        {
          "output_type": "stream",
          "text": [
            "JamesJamesJamesJamesJamesJames\n"
          ],
          "name": "stdout"
        }
      ]
    },
    {
      "cell_type": "code",
      "metadata": {
        "colab": {
          "base_uri": "https://localhost:8080/",
          "height": 180
        },
        "id": "CwbtijKzqPUR",
        "outputId": "2b280b54-f41c-480f-c625-ac83d32bb98a"
      },
      "source": [
        "for x in range(0.5, 5.5, 0.5):\n",
        "  print(x)"
      ],
      "execution_count": null,
      "outputs": [
        {
          "output_type": "error",
          "ename": "TypeError",
          "evalue": "ignored",
          "traceback": [
            "\u001b[0;31m---------------------------------------------------------------------------\u001b[0m",
            "\u001b[0;31mTypeError\u001b[0m                                 Traceback (most recent call last)",
            "\u001b[0;32m<ipython-input-1-1605cb655d89>\u001b[0m in \u001b[0;36m<module>\u001b[0;34m()\u001b[0m\n\u001b[0;32m----> 1\u001b[0;31m \u001b[0;32mfor\u001b[0m \u001b[0mx\u001b[0m \u001b[0;32min\u001b[0m \u001b[0mrange\u001b[0m\u001b[0;34m(\u001b[0m\u001b[0;36m0.5\u001b[0m\u001b[0;34m,\u001b[0m \u001b[0;36m5.5\u001b[0m\u001b[0;34m,\u001b[0m \u001b[0;36m0.5\u001b[0m\u001b[0;34m)\u001b[0m\u001b[0;34m:\u001b[0m\u001b[0;34m\u001b[0m\u001b[0;34m\u001b[0m\u001b[0m\n\u001b[0m\u001b[1;32m      2\u001b[0m   \u001b[0mprint\u001b[0m\u001b[0;34m(\u001b[0m\u001b[0mx\u001b[0m\u001b[0;34m)\u001b[0m\u001b[0;34m\u001b[0m\u001b[0;34m\u001b[0m\u001b[0m\n",
            "\u001b[0;31mTypeError\u001b[0m: 'float' object cannot be interpreted as an integer"
          ]
        }
      ]
    },
    {
      "cell_type": "code",
      "metadata": {
        "colab": {
          "base_uri": "https://localhost:8080/",
          "height": 197
        },
        "id": "2yM-l5ZrqaHe",
        "outputId": "218f6917-6dbe-4365-a9c6-70acf26ae432"
      },
      "source": [
        "var1 = 1\n",
        "var2 = 2\n",
        "var3 = \"3\"\n",
        "\n",
        "print(var + var2 + var3)"
      ],
      "execution_count": null,
      "outputs": [
        {
          "output_type": "error",
          "ename": "TypeError",
          "evalue": "ignored",
          "traceback": [
            "\u001b[0;31m---------------------------------------------------------------------------\u001b[0m",
            "\u001b[0;31mTypeError\u001b[0m                                 Traceback (most recent call last)",
            "\u001b[0;32m<ipython-input-8-9e81045fb2da>\u001b[0m in \u001b[0;36m<module>\u001b[0;34m()\u001b[0m\n\u001b[1;32m      3\u001b[0m \u001b[0mvar3\u001b[0m \u001b[0;34m=\u001b[0m \u001b[0;34m\"3\"\u001b[0m\u001b[0;34m\u001b[0m\u001b[0;34m\u001b[0m\u001b[0m\n\u001b[1;32m      4\u001b[0m \u001b[0;34m\u001b[0m\u001b[0m\n\u001b[0;32m----> 5\u001b[0;31m \u001b[0mprint\u001b[0m\u001b[0;34m(\u001b[0m\u001b[0mvar\u001b[0m \u001b[0;34m+\u001b[0m \u001b[0mvar2\u001b[0m \u001b[0;34m+\u001b[0m \u001b[0mvar3\u001b[0m\u001b[0;34m)\u001b[0m\u001b[0;34m\u001b[0m\u001b[0;34m\u001b[0m\u001b[0m\n\u001b[0m",
            "\u001b[0;31mTypeError\u001b[0m: can only concatenate str (not \"int\") to str"
          ]
        }
      ]
    },
    {
      "cell_type": "code",
      "metadata": {
        "colab": {
          "base_uri": "https://localhost:8080/"
        },
        "id": "ZCQNGyv1qle2",
        "outputId": "12e21758-3b87-40e5-8c31-1bf202bee6c9"
      },
      "source": [
        "def multiplication_or_sum(num1,num2):\n",
        "  product= num1*num2\n",
        "  # check product\n",
        "  if product < 1000:\n",
        "    return product\n",
        "  else:\n",
        "    return num1 + num2\n",
        "\n",
        "\n",
        "res = multiplication_or_sum(20,30)\n",
        "print(f\"The result is: {res}\")\n",
        "\n",
        "\n",
        "res = multiplication_or_sum(40,30)\n",
        "print(f\"The result is: {res}\")"
      ],
      "execution_count": null,
      "outputs": [
        {
          "output_type": "stream",
          "text": [
            "The result is: 600\n",
            "The result is: 70\n"
          ],
          "name": "stdout"
        }
      ]
    },
    {
      "cell_type": "code",
      "metadata": {
        "colab": {
          "base_uri": "https://localhost:8080/"
        },
        "id": "3673cqsIsXsO",
        "outputId": "ef13092b-fa41-4dab-8e2c-ea8ab6df9c48"
      },
      "source": [
        "# x=range(10)\n",
        "for i in range(10):\n",
        "  print(x)"
      ],
      "execution_count": null,
      "outputs": [
        {
          "output_type": "stream",
          "text": [
            "range(0, 10)\n",
            "range(0, 10)\n",
            "range(0, 10)\n",
            "range(0, 10)\n",
            "range(0, 10)\n",
            "range(0, 10)\n",
            "range(0, 10)\n",
            "range(0, 10)\n",
            "range(0, 10)\n",
            "range(0, 10)\n"
          ],
          "name": "stdout"
        }
      ]
    },
    {
      "cell_type": "code",
      "metadata": {
        "colab": {
          "base_uri": "https://localhost:8080/"
        },
        "id": "MRw2sYoVs3YZ",
        "outputId": "5cf1b72d-eea2-4d68-c380-fab7978173c9"
      },
      "source": [
        "def sum_num(num):\n",
        "  prev_num = 0\n",
        "  for i in range(num):\n",
        "    sum = prev_num + 1\n",
        "    print(f\"Current Number: 1\\n\")\n",
        "    print(f\"Previous Number: {prev_num}\")\n",
        "    print(f\"Sum: {sum}\")\n",
        "    prev_num = i\n",
        "\n",
        "res = sum_num(10)\n",
        "print(res)"
      ],
      "execution_count": null,
      "outputs": [
        {
          "output_type": "stream",
          "text": [
            "Current Number: 1\n",
            "\n",
            "Previous Number: 0\n",
            "Sum: 1\n",
            "Current Number: 1\n",
            "\n",
            "Previous Number: 0\n",
            "Sum: 1\n",
            "Current Number: 1\n",
            "\n",
            "Previous Number: 1\n",
            "Sum: 2\n",
            "Current Number: 1\n",
            "\n",
            "Previous Number: 2\n",
            "Sum: 3\n",
            "Current Number: 1\n",
            "\n",
            "Previous Number: 3\n",
            "Sum: 4\n",
            "Current Number: 1\n",
            "\n",
            "Previous Number: 4\n",
            "Sum: 5\n",
            "Current Number: 1\n",
            "\n",
            "Previous Number: 5\n",
            "Sum: 6\n",
            "Current Number: 1\n",
            "\n",
            "Previous Number: 6\n",
            "Sum: 7\n",
            "Current Number: 1\n",
            "\n",
            "Previous Number: 7\n",
            "Sum: 8\n",
            "Current Number: 1\n",
            "\n",
            "Previous Number: 8\n",
            "Sum: 9\n",
            "None\n"
          ],
          "name": "stdout"
        }
      ]
    },
    {
      "cell_type": "code",
      "metadata": {
        "colab": {
          "base_uri": "https://localhost:8080/"
        },
        "id": "bI3wF8tWtX9j",
        "outputId": "e28dd32d-bc0e-4252-f161-271390856e01"
      },
      "source": [
        "for i in range(10):\n",
        "  print(i + 1)"
      ],
      "execution_count": null,
      "outputs": [
        {
          "output_type": "stream",
          "text": [
            "1\n",
            "2\n",
            "3\n",
            "4\n",
            "5\n",
            "6\n",
            "7\n",
            "8\n",
            "9\n",
            "10\n"
          ],
          "name": "stdout"
        }
      ]
    },
    {
      "cell_type": "code",
      "metadata": {
        "colab": {
          "base_uri": "https://localhost:8080/"
        },
        "id": "cioy79ubuphC",
        "outputId": "1c5ecdd1-43b4-440e-bdae-986182a7e52a"
      },
      "source": [
        "n=2\n",
        "\n",
        "for i in range(1,11,1):\n",
        "  product = n*i\n",
        "  print(product)"
      ],
      "execution_count": null,
      "outputs": [
        {
          "output_type": "stream",
          "text": [
            "2\n",
            "4\n",
            "6\n",
            "8\n",
            "10\n",
            "12\n",
            "14\n",
            "16\n",
            "18\n",
            "20\n"
          ],
          "name": "stdout"
        }
      ]
    },
    {
      "cell_type": "code",
      "metadata": {
        "id": "ximVdwqPu8Jf",
        "colab": {
          "base_uri": "https://localhost:8080/"
        },
        "outputId": "e9bbfafa-fc56-4ab9-d857-e1cda36c3911"
      },
      "source": [
        "import numpy as np\n",
        "arr = np.array([[1,2,3,4,5], [6,7,8,9,10]])\n",
        "print(arr[1,2])"
      ],
      "execution_count": null,
      "outputs": [
        {
          "output_type": "stream",
          "text": [
            "8\n"
          ],
          "name": "stdout"
        }
      ]
    },
    {
      "cell_type": "code",
      "metadata": {
        "colab": {
          "base_uri": "https://localhost:8080/"
        },
        "id": "EGquhFGKzF71",
        "outputId": "49be0e17-f273-4684-8c2b-141158f5b76b"
      },
      "source": [
        "arr = np.array([1,2,3,4,5,6,7])\n",
        "print(arr[2:5])"
      ],
      "execution_count": null,
      "outputs": [
        {
          "output_type": "stream",
          "text": [
            "[3 4 5]\n"
          ],
          "name": "stdout"
        }
      ]
    },
    {
      "cell_type": "code",
      "metadata": {
        "colab": {
          "base_uri": "https://localhost:8080/"
        },
        "id": "x4FQBNEdzggj",
        "outputId": "5bce1dd7-e2d3-4c0d-df7c-7f321ca843d0"
      },
      "source": [
        "arr = np.array([1,2,3,4,5,6,7])\n",
        "print(arr[3:]) # 3: - Displays the last 4. Backwards index to +1 is added"
      ],
      "execution_count": null,
      "outputs": [
        {
          "output_type": "stream",
          "text": [
            "[4 5 6 7]\n"
          ],
          "name": "stdout"
        }
      ]
    },
    {
      "cell_type": "code",
      "metadata": {
        "colab": {
          "base_uri": "https://localhost:8080/"
        },
        "id": "2lezziuPzn4Z",
        "outputId": "21056c50-43a5-482b-9dd2-1c1822a11522"
      },
      "source": [
        "arr = np.array([1,2,3,4,5,6,7])\n",
        "print(arr[::2]) # :: Makes it so you can print every other."
      ],
      "execution_count": null,
      "outputs": [
        {
          "output_type": "stream",
          "text": [
            "[1 3 5 7]\n"
          ],
          "name": "stdout"
        }
      ]
    },
    {
      "cell_type": "code",
      "metadata": {
        "id": "FylNt3XJz6HY",
        "colab": {
          "base_uri": "https://localhost:8080/"
        },
        "outputId": "a6d82e36-2543-4c41-8c65-e96f00d21e85"
      },
      "source": [
        "import numpy as np\n",
        "\n",
        "percentiles = [98, 76.37, 55.55, 69, 88]\n",
        "first_subject = np.array(percentiles)\n",
        "print(first_subject.dtype)"
      ],
      "execution_count": null,
      "outputs": [
        {
          "output_type": "stream",
          "text": [
            "float64\n"
          ],
          "name": "stdout"
        }
      ]
    },
    {
      "cell_type": "code",
      "metadata": {
        "id": "7V0BItO41JEt",
        "colab": {
          "base_uri": "https://localhost:8080/"
        },
        "outputId": "b23becb8-0481-440b-88d8-34596340fd55"
      },
      "source": [
        "import numpy as np\n",
        "series = [[23,45,12,679], [14,48,69,38]]\n",
        "new_series = np.array(series)\n",
        "print (new_series.ndim)\n",
        "print (new_series.shape)\n",
        "print (new_series.dtype)"
      ],
      "execution_count": null,
      "outputs": [
        {
          "output_type": "stream",
          "text": [
            "2\n",
            "(2, 4)\n",
            "int64\n"
          ],
          "name": "stdout"
        }
      ]
    },
    {
      "cell_type": "code",
      "metadata": {
        "id": "i6yY2QpN68Uq",
        "colab": {
          "base_uri": "https://localhost:8080/"
        },
        "outputId": "8a9f9d5e-7327-4e6f-b50f-768a6d1dcebf"
      },
      "source": [
        "x= 30\n",
        "for i in range (1, x):\n",
        "  print(i)\n",
        "else:\n",
        "  print(\"console error\")"
      ],
      "execution_count": null,
      "outputs": [
        {
          "output_type": "stream",
          "text": [
            "1\n",
            "2\n",
            "3\n",
            "4\n",
            "5\n",
            "6\n",
            "7\n",
            "8\n",
            "9\n",
            "10\n",
            "11\n",
            "12\n",
            "13\n",
            "14\n",
            "15\n",
            "16\n",
            "17\n",
            "18\n",
            "19\n",
            "20\n",
            "21\n",
            "22\n",
            "23\n",
            "24\n",
            "25\n",
            "26\n",
            "27\n",
            "28\n",
            "29\n",
            "console error\n"
          ],
          "name": "stdout"
        }
      ]
    },
    {
      "cell_type": "code",
      "metadata": {
        "id": "kTF6OgFcdMyg"
      },
      "source": [
        "import tensorflow as tf\n",
        "import numpy as np"
      ],
      "execution_count": null,
      "outputs": []
    },
    {
      "cell_type": "code",
      "metadata": {
        "colab": {
          "base_uri": "https://localhost:8080/"
        },
        "id": "BoXsqG7_e30E",
        "outputId": "94213319-dcc5-451f-de42-f0bd1d28ea37"
      },
      "source": [
        "sample_dataset = tf.data.Dataset.from_tensor_slices([1, 2, 3, 4, 5, 6])\n",
        "sample_dataset"
      ],
      "execution_count": null,
      "outputs": [
        {
          "output_type": "execute_result",
          "data": {
            "text/plain": [
              "<TensorSliceDataset shapes: (), types: tf.int32>"
            ]
          },
          "metadata": {
            "tags": []
          },
          "execution_count": 6
        }
      ]
    },
    {
      "cell_type": "code",
      "metadata": {
        "colab": {
          "base_uri": "https://localhost:8080/"
        },
        "id": "56anbG4zfRvA",
        "outputId": "c46ac09f-d834-4a1b-fbb0-b4238db4cb82"
      },
      "source": [
        "# For loop iterator\n",
        "for elem in sample_dataset:\n",
        "  print(elem.numpy())"
      ],
      "execution_count": null,
      "outputs": [
        {
          "output_type": "stream",
          "text": [
            "1\n",
            "2\n",
            "3\n",
            "4\n",
            "5\n",
            "6\n"
          ],
          "name": "stdout"
        }
      ]
    },
    {
      "cell_type": "code",
      "metadata": {
        "colab": {
          "base_uri": "https://localhost:8080/"
        },
        "id": "iohml_b4fjAe",
        "outputId": "9630bf0b-123a-46a8-f868-c328dc208ded"
      },
      "source": [
        "# Reducing dataset\n",
        "print(sample_dataset.reduce(0, lambda state, value: state + value).numpy()) # Adds all values\n",
        "\n"
      ],
      "execution_count": null,
      "outputs": [
        {
          "output_type": "stream",
          "text": [
            "21\n"
          ],
          "name": "stdout"
        }
      ]
    },
    {
      "cell_type": "code",
      "metadata": {
        "colab": {
          "base_uri": "https://localhost:8080/"
        },
        "id": "ZmpSUZPPgTA8",
        "outputId": "47c992de-b12d-4384-f9d8-5554a79fa1fb"
      },
      "source": [
        "# Creating random list of ints\n",
        "import random\n",
        "\n",
        "x = [] \n",
        "\n",
        "\n",
        "for i in range (0,8):\n",
        "  y = random.randint(5,40)\n",
        "  x.append(y)\n",
        "print(x)"
      ],
      "execution_count": null,
      "outputs": [
        {
          "output_type": "stream",
          "text": [
            "[26, 5, 17, 34, 10, 37, 14, 32]\n"
          ],
          "name": "stdout"
        }
      ]
    },
    {
      "cell_type": "markdown",
      "metadata": {
        "id": "VD3s0UQlDTsD"
      },
      "source": [
        "# Testing out the element_spec for tf.data"
      ]
    },
    {
      "cell_type": "code",
      "metadata": {
        "colab": {
          "base_uri": "https://localhost:8080/"
        },
        "id": "-qMj2XZohakR",
        "outputId": "7278ab1f-0933-405f-ab49-9b24d1bcf57d"
      },
      "source": [
        "dataset = tf.data.Dataset.from_tensor_slices(x)\n",
        "dataset"
      ],
      "execution_count": null,
      "outputs": [
        {
          "output_type": "execute_result",
          "data": {
            "text/plain": [
              "<TensorSliceDataset shapes: (), types: tf.int32>"
            ]
          },
          "metadata": {
            "tags": []
          },
          "execution_count": 10
        }
      ]
    },
    {
      "cell_type": "code",
      "metadata": {
        "colab": {
          "base_uri": "https://localhost:8080/"
        },
        "id": "LGlqyn4hh_1W",
        "outputId": "5ea91227-a3b6-4220-f129-4cbe8c306698"
      },
      "source": [
        "# For loop iterator\n",
        "for elem in dataset:\n",
        "  print(elem.numpy())"
      ],
      "execution_count": null,
      "outputs": [
        {
          "output_type": "stream",
          "text": [
            "26\n",
            "5\n",
            "17\n",
            "34\n",
            "10\n",
            "37\n",
            "14\n",
            "32\n"
          ],
          "name": "stdout"
        }
      ]
    },
    {
      "cell_type": "code",
      "metadata": {
        "colab": {
          "base_uri": "https://localhost:8080/"
        },
        "id": "5Yb90KPjiD3D",
        "outputId": "63d8c62f-9881-4097-9fc8-a91e011bdece"
      },
      "source": [
        "dataset1 = tf.data.Dataset.from_tensor_slices(tf.random.uniform([2,8]))\n",
        "dataset1.element_spec"
      ],
      "execution_count": null,
      "outputs": [
        {
          "output_type": "execute_result",
          "data": {
            "text/plain": [
              "TensorSpec(shape=(8,), dtype=tf.float32, name=None)"
            ]
          },
          "metadata": {
            "tags": []
          },
          "execution_count": 18
        }
      ]
    },
    {
      "cell_type": "code",
      "metadata": {
        "colab": {
          "base_uri": "https://localhost:8080/"
        },
        "id": "Y0bbkGvqiWFy",
        "outputId": "65e2ac41-5238-4a1e-b37b-2efe398cccec"
      },
      "source": [
        "!nvidia-smi -L"
      ],
      "execution_count": null,
      "outputs": [
        {
          "output_type": "stream",
          "text": [
            "GPU 0: Tesla T4 (UUID: GPU-4ea6f717-de98-9b74-4266-dd516265c76b)\n"
          ],
          "name": "stdout"
        }
      ]
    },
    {
      "cell_type": "markdown",
      "metadata": {
        "id": "REHAMIxHIeLC"
      },
      "source": [
        "# Coding from Python Crash Course 2nd Edition book. Functions and Classes"
      ]
    },
    {
      "cell_type": "code",
      "metadata": {
        "id": "YFohmZ3iii7x",
        "colab": {
          "base_uri": "https://localhost:8080/"
        },
        "outputId": "a6f9a201-9b49-468a-e1a5-1b69265d3bd8"
      },
      "source": [
        "# Function with arg\n",
        "def fav_book(book):\n",
        "  print(f\"My Favorite book is: {book.title()} !\")\n",
        "  \n",
        "fav_book(\"Deep Learning with Python\")"
      ],
      "execution_count": 2,
      "outputs": [
        {
          "output_type": "stream",
          "text": [
            "My Favorite book is: Deep Learning With Python !\n"
          ],
          "name": "stdout"
        }
      ]
    },
    {
      "cell_type": "code",
      "metadata": {
        "id": "MP0vj-WLjJtW",
        "colab": {
          "base_uri": "https://localhost:8080/"
        },
        "outputId": "f5610f40-3364-4d48-af63-efd2897fb09d"
      },
      "source": [
        "# Positional args\n",
        "def desc_animal(animal_type, pet_name):\n",
        "  \"\"\"\n",
        "  Displays animal information\n",
        "  \"\"\"\n",
        "\n",
        "  print(f\"\\n I have a {animal_type}\")\n",
        "  print(f\"My {animal_type}'s name is {pet_name.title()}\")\n",
        "\n",
        "desc_animal(\"moose\", \"johnny\")\n",
        "desc_animal(\"hamster\", \"mason\")\n",
        "\n"
      ],
      "execution_count": 9,
      "outputs": [
        {
          "output_type": "stream",
          "text": [
            "\n",
            " I have a moose\n",
            "My moose's name is Johnny\n",
            "\n",
            " I have a hamster\n",
            "My hamster's name is Mason\n"
          ],
          "name": "stdout"
        }
      ]
    },
    {
      "cell_type": "code",
      "metadata": {
        "colab": {
          "base_uri": "https://localhost:8080/"
        },
        "id": "pmv_vzf0Eakn",
        "outputId": "d48109a4-adfc-4c46-b9ba-a3c2d0d87a38"
      },
      "source": [
        "def get_formatted_name(first_name, last_name):\n",
        "  \"\"\"\n",
        "  Return a full name, neatly formatted\n",
        "  \"\"\"\n",
        "\n",
        "  full_name = f\"{first_name} {last_name}\"\n",
        "  return full_name.title()\n",
        "\n",
        "gamer = get_formatted_name(\"jacob\", \"clemenson\")\n",
        "print(gamer)"
      ],
      "execution_count": 12,
      "outputs": [
        {
          "output_type": "stream",
          "text": [
            "Jacob Clemenson\n"
          ],
          "name": "stdout"
        }
      ]
    },
    {
      "cell_type": "code",
      "metadata": {
        "colab": {
          "base_uri": "https://localhost:8080/"
        },
        "id": "ZCsFIAxbIZW1",
        "outputId": "bb2f21ca-a75a-43ba-a9f3-128356ce04cf"
      },
      "source": [
        "# Returning dict and adding age if default changed\n",
        "\n",
        "def build_person(first_name, last_name, age=None):\n",
        "  \"\"\"\n",
        "  Returns dict of information about person\n",
        "  \"\"\"\n",
        "\n",
        "  person = {\"first\": first_name,\n",
        "            \"last\": last_name,\n",
        "            }\n",
        "  if age:\n",
        "    person[\"age\"] = age\n",
        "  return person\n",
        "\n",
        "olympian = build_person(\"Usain\", \"Bolt\", age=42)\n",
        "print(olympian)"
      ],
      "execution_count": 14,
      "outputs": [
        {
          "output_type": "stream",
          "text": [
            "{'first': 'Usain', 'last': 'Bolt', 'age': 42}\n"
          ],
          "name": "stdout"
        }
      ]
    },
    {
      "cell_type": "code",
      "metadata": {
        "id": "f3jqCGnqLbeo"
      },
      "source": [
        ""
      ],
      "execution_count": null,
      "outputs": []
    }
  ]
}